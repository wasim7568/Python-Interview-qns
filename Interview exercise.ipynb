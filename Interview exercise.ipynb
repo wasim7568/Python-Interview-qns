{
 "cells": [
  {
   "cell_type": "markdown",
   "id": "a1b1f60d",
   "metadata": {},
   "source": [
    "### Write a program to check whether a given number is even or odd."
   ]
  },
  {
   "cell_type": "code",
   "execution_count": 1,
   "id": "893ee775",
   "metadata": {},
   "outputs": [
    {
     "name": "stdout",
     "output_type": "stream",
     "text": [
      "6\n",
      "even\n"
     ]
    }
   ],
   "source": [
    "num=int(input())\n",
    "\n",
    "if num%2==0:\n",
    "    print('even')\n",
    "else:\n",
    "    print('odd')"
   ]
  },
  {
   "cell_type": "markdown",
   "id": "e2ce85be",
   "metadata": {},
   "source": [
    "### Write a program to check whether a given number is divisible by 5 or not.\n"
   ]
  },
  {
   "cell_type": "code",
   "execution_count": 2,
   "id": "8cfa1d3f",
   "metadata": {},
   "outputs": [
    {
     "name": "stdout",
     "output_type": "stream",
     "text": [
      "25\n",
      "yes\n"
     ]
    }
   ],
   "source": [
    "num=int(input())\n",
    "\n",
    "if num%5==0:\n",
    "    print('yes')\n",
    "else:\n",
    "    print('not divisible')"
   ]
  },
  {
   "cell_type": "markdown",
   "id": "6b0ceb0a",
   "metadata": {},
   "source": [
    "### Write a program to find greater between two numbers.\n"
   ]
  },
  {
   "cell_type": "code",
   "execution_count": 3,
   "id": "3716caef",
   "metadata": {},
   "outputs": [
    {
     "name": "stdout",
     "output_type": "stream",
     "text": [
      "5\n",
      "12\n",
      "12 is greater than 5\n"
     ]
    }
   ],
   "source": [
    "a = int(input())\n",
    "b = int(input())\n",
    "\n",
    "if a>b:\n",
    "    print(a)\n",
    "else:\n",
    "    print(b, 'is greater than',a)"
   ]
  },
  {
   "cell_type": "markdown",
   "id": "a4119ee0",
   "metadata": {},
   "source": [
    "### Write a program to to find greater among three numbers."
   ]
  },
  {
   "cell_type": "code",
   "execution_count": 4,
   "id": "0d99529c",
   "metadata": {},
   "outputs": [
    {
     "name": "stdout",
     "output_type": "stream",
     "text": [
      "2\n",
      "4\n",
      "8\n",
      "8\n"
     ]
    }
   ],
   "source": [
    "a = int(input())\n",
    "b = int(input())\n",
    "c = int(input())\n",
    "\n",
    "if a>b and a>c:\n",
    "    print(a)\n",
    "elif b>a and b>c:\n",
    "    print(b)\n",
    "else:\n",
    "    print(c)"
   ]
  },
  {
   "cell_type": "markdown",
   "id": "7253d054",
   "metadata": {},
   "source": [
    "### Write a program to find roots of a quadratic equation"
   ]
  },
  {
   "cell_type": "code",
   "execution_count": 5,
   "id": "614e0818",
   "metadata": {},
   "outputs": [
    {
     "name": "stdout",
     "output_type": "stream",
     "text": [
      "(-3+2.6457513110645907j) (-3-2.6457513110645907j)\n"
     ]
    }
   ],
   "source": [
    "a=2\n",
    "b=3\n",
    "c=2\n",
    "\n",
    "root1 = (-b + (b**2 - 4*a*c)**0.5)/2*a\n",
    "root2 = (-b - (b**2 - 4*a*c)**0.5)/2*a\n",
    "print(root1, root2)"
   ]
  },
  {
   "cell_type": "markdown",
   "id": "a56acafb",
   "metadata": {},
   "source": [
    "### Write a program to print Your name 5 times on the screen."
   ]
  },
  {
   "cell_type": "code",
   "execution_count": 6,
   "id": "339ea3e7",
   "metadata": {},
   "outputs": [
    {
     "name": "stdout",
     "output_type": "stream",
     "text": [
      "wasim\n",
      "wasim\n",
      "wasim\n",
      "wasim\n",
      "wasim\n"
     ]
    }
   ],
   "source": [
    "x = 'wasim'\n",
    "# for i in range(1,6):\n",
    "#     print(x)\n",
    "i=1    \n",
    "while i<6:\n",
    "    print(x)\n",
    "    i+=1"
   ]
  },
  {
   "cell_type": "markdown",
   "id": "debc45cd",
   "metadata": {},
   "source": [
    "### Write a program to print first 10 natural numbers.\n"
   ]
  },
  {
   "cell_type": "code",
   "execution_count": 7,
   "id": "a8fc160a",
   "metadata": {},
   "outputs": [
    {
     "name": "stdout",
     "output_type": "stream",
     "text": [
      "1 2 3 4 5 6 7 8 9 10 "
     ]
    }
   ],
   "source": [
    "for i in range(1,11):\n",
    "    print(i,end=' ')"
   ]
  },
  {
   "cell_type": "markdown",
   "id": "538bdfa7",
   "metadata": {},
   "source": [
    "### Write a program to print first 10 natural numbers in reverse order."
   ]
  },
  {
   "cell_type": "code",
   "execution_count": 8,
   "id": "497602b4",
   "metadata": {},
   "outputs": [
    {
     "name": "stdout",
     "output_type": "stream",
     "text": [
      "10 9 8 7 6 5 4 3 2 1 "
     ]
    }
   ],
   "source": [
    "for i in range(10,0,-1):\n",
    "    print(i,end=' ')"
   ]
  },
  {
   "cell_type": "markdown",
   "id": "c011c889",
   "metadata": {},
   "source": [
    "### Write a program to print first N natural numbers. (N is given by user)"
   ]
  },
  {
   "cell_type": "code",
   "execution_count": 9,
   "id": "84f19087",
   "metadata": {},
   "outputs": [
    {
     "name": "stdout",
     "output_type": "stream",
     "text": [
      "25\n",
      "1 2 3 4 5 6 7 8 9 10 11 12 13 14 15 16 17 18 19 20 21 22 23 24 25 "
     ]
    }
   ],
   "source": [
    "n = int(input())\n",
    "\n",
    "for i in range(1,n+1):\n",
    "    print(i, end=' ')"
   ]
  },
  {
   "cell_type": "markdown",
   "id": "be758123",
   "metadata": {},
   "source": [
    "### Write a program to print first N natural numbers in reverse order. (N is given by user)"
   ]
  },
  {
   "cell_type": "code",
   "execution_count": 10,
   "id": "71d0db08",
   "metadata": {},
   "outputs": [
    {
     "name": "stdout",
     "output_type": "stream",
     "text": [
      "12\n",
      "12 11 10 9 8 7 6 5 4 3 2 1 "
     ]
    }
   ],
   "source": [
    "n = int(input())\n",
    "\n",
    "for i in range(n,0,-1):\n",
    "    print(i, end=' ')"
   ]
  },
  {
   "cell_type": "code",
   "execution_count": 11,
   "id": "8d308224",
   "metadata": {},
   "outputs": [
    {
     "name": "stdout",
     "output_type": "stream",
     "text": [
      "12 11 10 9 8 7 6 5 4 3 2 1 "
     ]
    }
   ],
   "source": [
    "i=n\n",
    "while i>=1:\n",
    "    print(i,end=' ')\n",
    "    i-=1"
   ]
  },
  {
   "cell_type": "markdown",
   "id": "5a65fc28",
   "metadata": {},
   "source": [
    "### Write a program to print first 10 even natural numbers."
   ]
  },
  {
   "cell_type": "code",
   "execution_count": 12,
   "id": "3efb53f6",
   "metadata": {},
   "outputs": [
    {
     "name": "stdout",
     "output_type": "stream",
     "text": [
      "2 4 6 8 10 "
     ]
    }
   ],
   "source": [
    "num = 10\n",
    "for i in range(1,num+1):\n",
    "    if i%2 ==0:\n",
    "        print(i,end=' ')"
   ]
  },
  {
   "cell_type": "markdown",
   "id": "b889bc59",
   "metadata": {},
   "source": [
    "### Write a program to print first 10 odd natural numbers."
   ]
  },
  {
   "cell_type": "code",
   "execution_count": 13,
   "id": "0ac81644",
   "metadata": {},
   "outputs": [
    {
     "name": "stdout",
     "output_type": "stream",
     "text": [
      "1 3 5 7 9 "
     ]
    }
   ],
   "source": [
    "for i in range(1,10):\n",
    "    if i%2==1:\n",
    "        print(i,end=' ')"
   ]
  },
  {
   "cell_type": "markdown",
   "id": "00f9c662",
   "metadata": {},
   "source": [
    "### Write a program to print first N even natural numbers\n"
   ]
  },
  {
   "cell_type": "code",
   "execution_count": 14,
   "id": "a6bf69dd",
   "metadata": {},
   "outputs": [
    {
     "name": "stdout",
     "output_type": "stream",
     "text": [
      "15\n",
      "2 4 6 8 10 12 14 "
     ]
    }
   ],
   "source": [
    "num = int(input())\n",
    "for i in range(1,num+1):\n",
    "    if i%2 ==0:\n",
    "        print(i,end=' ')"
   ]
  },
  {
   "cell_type": "code",
   "execution_count": 15,
   "id": "480ab1bd",
   "metadata": {},
   "outputs": [
    {
     "name": "stdout",
     "output_type": "stream",
     "text": [
      "2 4 6 8 10 12 14 "
     ]
    }
   ],
   "source": [
    "i=1\n",
    "while i<num:\n",
    "    if (i%2)==0:\n",
    "        print(i,end=' ')\n",
    "    i+=1"
   ]
  },
  {
   "cell_type": "markdown",
   "id": "2d45c174",
   "metadata": {},
   "source": [
    "### Write a program to print first N odd natural numbers"
   ]
  },
  {
   "cell_type": "code",
   "execution_count": 16,
   "id": "0817f3e0",
   "metadata": {},
   "outputs": [
    {
     "name": "stdout",
     "output_type": "stream",
     "text": [
      "19\n",
      "1 3 5 7 9 11 13 15 17 19 "
     ]
    }
   ],
   "source": [
    "num = int(input())\n",
    "for i in range(1,num+1):\n",
    "    if i%2==1:\n",
    "        print(i, end=' ')"
   ]
  },
  {
   "cell_type": "code",
   "execution_count": 17,
   "id": "005f71c1",
   "metadata": {},
   "outputs": [
    {
     "name": "stdout",
     "output_type": "stream",
     "text": [
      "1 3 5 7 9 11 13 15 17 19 "
     ]
    }
   ],
   "source": [
    "i=1\n",
    "while i<=num:\n",
    "    if i%2==1:\n",
    "        print(i, end=' ')\n",
    "    i=i+1"
   ]
  },
  {
   "cell_type": "markdown",
   "id": "056334eb",
   "metadata": {},
   "source": [
    "### Write a program to print first N even natural numbers in reverse order"
   ]
  },
  {
   "cell_type": "code",
   "execution_count": 18,
   "id": "255f2913",
   "metadata": {},
   "outputs": [
    {
     "name": "stdout",
     "output_type": "stream",
     "text": [
      "15\n",
      "14 12 10 8 6 4 2 "
     ]
    }
   ],
   "source": [
    "num = int(input())\n",
    "for i in range(num,0,-1):\n",
    "    if i %2==0:\n",
    "        print(i,end=' ')"
   ]
  },
  {
   "cell_type": "code",
   "execution_count": 24,
   "id": "a444ad26",
   "metadata": {},
   "outputs": [
    {
     "name": "stdout",
     "output_type": "stream",
     "text": [
      "14 12 10 8 6 4 2 "
     ]
    }
   ],
   "source": [
    "i=num\n",
    "while i>=1:\n",
    "    if i%2==0:\n",
    "        print(i,end=' ')\n",
    "    i-=1"
   ]
  },
  {
   "cell_type": "markdown",
   "id": "f177d431",
   "metadata": {},
   "source": [
    "### Write a program to print first N odd natural numbers in reverse order"
   ]
  },
  {
   "cell_type": "code",
   "execution_count": 25,
   "id": "77aaa19a",
   "metadata": {},
   "outputs": [
    {
     "name": "stdout",
     "output_type": "stream",
     "text": [
      "17\n",
      "17 15 13 11 9 7 5 3 1 "
     ]
    }
   ],
   "source": [
    "num = int(input())\n",
    "for i in range(num,0,-1):\n",
    "    if i %2==1:\n",
    "        print(i,end=' ')"
   ]
  },
  {
   "cell_type": "code",
   "execution_count": 26,
   "id": "047e5640",
   "metadata": {},
   "outputs": [
    {
     "name": "stdout",
     "output_type": "stream",
     "text": [
      "17 15 13 11 9 7 5 3 1 "
     ]
    }
   ],
   "source": [
    "i=num\n",
    "while i>=1:\n",
    "    if i%2==1:\n",
    "        print(i, end=' ')\n",
    "    i-=1"
   ]
  },
  {
   "cell_type": "markdown",
   "id": "e443d686",
   "metadata": {},
   "source": [
    "### Write a program to print table of user’s choice"
   ]
  },
  {
   "cell_type": "code",
   "execution_count": 29,
   "id": "fbbbd34c",
   "metadata": {},
   "outputs": [
    {
     "name": "stdout",
     "output_type": "stream",
     "text": [
      "5\n",
      "5 10 15 20 25 30 35 40 45 50 "
     ]
    }
   ],
   "source": [
    "table = int(input())\n",
    "for i in range(1,11):\n",
    "    print(table * i, end=' ')"
   ]
  },
  {
   "cell_type": "code",
   "execution_count": 31,
   "id": "45d5d799",
   "metadata": {},
   "outputs": [
    {
     "name": "stdout",
     "output_type": "stream",
     "text": [
      "5 10 15 20 25 30 35 40 45 50 "
     ]
    }
   ],
   "source": [
    "i=1\n",
    "while i<=10:\n",
    "    print(table*i, end=' ')\n",
    "    i+=1"
   ]
  },
  {
   "cell_type": "markdown",
   "id": "cdc34d28",
   "metadata": {},
   "source": [
    "### Write a program to calculate sum of first N natural numbers"
   ]
  },
  {
   "cell_type": "code",
   "execution_count": 41,
   "id": "16f08590",
   "metadata": {},
   "outputs": [
    {
     "name": "stdout",
     "output_type": "stream",
     "text": [
      "5\n",
      "15\n"
     ]
    }
   ],
   "source": [
    "num = int(input())\n",
    "sum=0\n",
    "for i in range(1, num+1):\n",
    "    sum=sum+i\n",
    "print(sum)"
   ]
  },
  {
   "cell_type": "code",
   "execution_count": 46,
   "id": "5c82c6b9",
   "metadata": {},
   "outputs": [
    {
     "name": "stdout",
     "output_type": "stream",
     "text": [
      "15\n"
     ]
    }
   ],
   "source": [
    "sum=0\n",
    "i=1\n",
    "while i<= num:\n",
    "    sum=sum+i\n",
    "    i=i+1\n",
    "print(sum)"
   ]
  },
  {
   "cell_type": "markdown",
   "id": "27578c34",
   "metadata": {},
   "source": [
    "### Write a program to calculate product of first N natural numbers"
   ]
  },
  {
   "cell_type": "code",
   "execution_count": 48,
   "id": "f6462622",
   "metadata": {},
   "outputs": [
    {
     "name": "stdout",
     "output_type": "stream",
     "text": [
      "5\n",
      "120\n"
     ]
    }
   ],
   "source": [
    "num = int(input())\n",
    "prod = 1\n",
    "for i in range(1,num+1):\n",
    "    prod=prod*i\n",
    "print(prod)"
   ]
  },
  {
   "cell_type": "code",
   "execution_count": 52,
   "id": "cbe7ac90",
   "metadata": {},
   "outputs": [
    {
     "name": "stdout",
     "output_type": "stream",
     "text": [
      "120\n"
     ]
    }
   ],
   "source": [
    "prod=1\n",
    "i=1\n",
    "while i<=num:\n",
    "    prod=prod*i\n",
    "    i+=1\n",
    "print(prod)"
   ]
  },
  {
   "cell_type": "markdown",
   "id": "2c94f8de",
   "metadata": {},
   "source": [
    "### Write a program to calculate factorial of a number."
   ]
  },
  {
   "cell_type": "code",
   "execution_count": 54,
   "id": "3461cb71",
   "metadata": {},
   "outputs": [
    {
     "name": "stdout",
     "output_type": "stream",
     "text": [
      "6\n",
      "720\n"
     ]
    }
   ],
   "source": [
    "num = int(input())\n",
    "if num < 0:\n",
    "    print('not possible')\n",
    "elif num ==1 or num ==0:\n",
    "    print(1)\n",
    "else:\n",
    "    fact=1\n",
    "    for i in range(1,num+1):\n",
    "        fact = fact*i\n",
    "    print(fact)"
   ]
  },
  {
   "cell_type": "markdown",
   "id": "f16d7eb6",
   "metadata": {},
   "source": [
    "### Write a program to calculate sum of first N even natural numbers"
   ]
  },
  {
   "cell_type": "code",
   "execution_count": 76,
   "id": "92401f9c",
   "metadata": {},
   "outputs": [
    {
     "name": "stdout",
     "output_type": "stream",
     "text": [
      "6\n",
      "2 4 6 \n",
      " 12\n"
     ]
    }
   ],
   "source": [
    "num = int(input())\n",
    "s = 0\n",
    "\n",
    "for i in range(1, num+1):\n",
    "    if i%2==0:\n",
    "        s=s+i\n",
    "        print(i,end=' ')\n",
    "print('\\n',s)"
   ]
  },
  {
   "cell_type": "markdown",
   "id": "f6d8a7c5",
   "metadata": {},
   "source": [
    "### Write a program to calculate sum of first N odd natural numbers"
   ]
  },
  {
   "cell_type": "code",
   "execution_count": 77,
   "id": "f2867e8c",
   "metadata": {
    "scrolled": true
   },
   "outputs": [
    {
     "name": "stdout",
     "output_type": "stream",
     "text": [
      "15\n",
      "1 3 5 7 9 11 13 15 \n",
      " 64\n"
     ]
    }
   ],
   "source": [
    "num = int(input())\n",
    "s = 0\n",
    "\n",
    "for i in range(1, num+1):\n",
    "    if i%2==1:\n",
    "        s=s+i\n",
    "        print(i,end=' ')\n",
    "print('\\n',s)"
   ]
  },
  {
   "cell_type": "markdown",
   "id": "489f50c6",
   "metadata": {},
   "source": [
    "### Write a program to calculate x power y.\n",
    "(when user input x is 2 and y is 3 then the result will be 8)"
   ]
  },
  {
   "cell_type": "code",
   "execution_count": 78,
   "id": "d343b76e",
   "metadata": {},
   "outputs": [
    {
     "name": "stdout",
     "output_type": "stream",
     "text": [
      "2\n",
      "3\n",
      "8\n"
     ]
    }
   ],
   "source": [
    "x = int(input())\n",
    "y = int(input())\n",
    "\n",
    "print(x**y)"
   ]
  },
  {
   "cell_type": "markdown",
   "id": "6603d418",
   "metadata": {},
   "source": [
    "### Write a program to count digits in a given number."
   ]
  },
  {
   "cell_type": "code",
   "execution_count": 80,
   "id": "bce8ebef",
   "metadata": {},
   "outputs": [
    {
     "name": "stdout",
     "output_type": "stream",
     "text": [
      "2548\n",
      "4\n"
     ]
    }
   ],
   "source": [
    "num = int(input())\n",
    "print(len(str(num)))"
   ]
  },
  {
   "cell_type": "code",
   "execution_count": 86,
   "id": "dc38c87e",
   "metadata": {},
   "outputs": [
    {
     "name": "stdout",
     "output_type": "stream",
     "text": [
      "36548\n",
      "5\n"
     ]
    }
   ],
   "source": [
    "num = int(input())\n",
    "count = 0\n",
    "while num!=0:\n",
    "    num//=10\n",
    "    count+=1\n",
    "print(count)"
   ]
  },
  {
   "cell_type": "markdown",
   "id": "04b36653",
   "metadata": {},
   "source": [
    "### Write a program to calculate sum of the digits of a given number"
   ]
  },
  {
   "cell_type": "code",
   "execution_count": 94,
   "id": "24493c38",
   "metadata": {},
   "outputs": [
    {
     "name": "stdout",
     "output_type": "stream",
     "text": [
      "7\n"
     ]
    }
   ],
   "source": [
    "x = 250\n",
    "s=0\n",
    "for i in str(x):\n",
    "    s=s+int(i)\n",
    "print(s)"
   ]
  },
  {
   "cell_type": "markdown",
   "id": "e80e4b11",
   "metadata": {},
   "source": [
    "### Write a program to reverse a number"
   ]
  },
  {
   "cell_type": "code",
   "execution_count": 101,
   "id": "01493bfa",
   "metadata": {},
   "outputs": [
    {
     "name": "stdout",
     "output_type": "stream",
     "text": [
      "152\n"
     ]
    }
   ],
   "source": [
    "x = 251\n",
    "print(str(x)[::-1])"
   ]
  },
  {
   "cell_type": "code",
   "execution_count": 110,
   "id": "6e721b50",
   "metadata": {},
   "outputs": [
    {
     "name": "stdout",
     "output_type": "stream",
     "text": [
      "874\n"
     ]
    }
   ],
   "source": [
    "x = 478\n",
    "rev = 0\n",
    "while x!=0:\n",
    "    digit = x%10\n",
    "    rev = rev * 10 + digit\n",
    "    x//=10\n",
    "print(str(rev))"
   ]
  },
  {
   "cell_type": "markdown",
   "id": "ce2a9020",
   "metadata": {},
   "source": [
    "### Write a program to print all Armstrong numbers under 1000."
   ]
  },
  {
   "cell_type": "code",
   "execution_count": 16,
   "id": "71b6d13f",
   "metadata": {},
   "outputs": [
    {
     "name": "stdout",
     "output_type": "stream",
     "text": [
      "Enter a number: 153\n",
      "153 is an Armstrong number\n"
     ]
    }
   ],
   "source": [
    "num = int(input(\"Enter a number: \"))\n",
    "sum = 0\n",
    "temp = num\n",
    "while temp > 0:\n",
    "    digit = temp % 10\n",
    "    sum += digit ** 3\n",
    "    temp //= 10\n",
    "if num == sum:\n",
    "    print(num,\"is an Armstrong number\")\n",
    "else:\n",
    "    print(num,\"is not an Armstrong number\")"
   ]
  },
  {
   "cell_type": "markdown",
   "id": "4b8858f8",
   "metadata": {},
   "source": [
    "### Write a program to calculate LCM of two numbers"
   ]
  },
  {
   "cell_type": "code",
   "execution_count": 8,
   "id": "81270de4",
   "metadata": {},
   "outputs": [
    {
     "name": "stdout",
     "output_type": "stream",
     "text": [
      "12\n",
      "19\n",
      "228\n"
     ]
    }
   ],
   "source": [
    "a = int(input())\n",
    "b = int(input())\n",
    "maxnum = max(a,b)\n",
    "while True:\n",
    "    if maxnum%a==0 and maxnum % b==0:\n",
    "        break\n",
    "    maxnum = maxnum + 1\n",
    "print(maxnum)"
   ]
  },
  {
   "cell_type": "markdown",
   "id": "148033fb",
   "metadata": {},
   "source": [
    "### Write a program to calculate HCF of two numbers."
   ]
  },
  {
   "cell_type": "code",
   "execution_count": 37,
   "id": "c3fae731",
   "metadata": {},
   "outputs": [
    {
     "data": {
      "text/plain": [
       "4"
      ]
     },
     "execution_count": 37,
     "metadata": {},
     "output_type": "execute_result"
    }
   ],
   "source": [
    "x = 20\n",
    "y=4\n",
    "if x>y:\n",
    "    small= y\n",
    "else:\n",
    "    small= x\n",
    "    \n",
    "for i in range(1,small+1):\n",
    "    if y%i==0 and x%i==0:\n",
    "        hcf = i\n",
    "\n",
    "hcf"
   ]
  },
  {
   "cell_type": "markdown",
   "id": "de7f83ab",
   "metadata": {},
   "source": [
    "### Write a program to check whether a given number is prime or not"
   ]
  },
  {
   "cell_type": "code",
   "execution_count": 49,
   "id": "e42613f8",
   "metadata": {},
   "outputs": [
    {
     "name": "stdout",
     "output_type": "stream",
     "text": [
      "8\n",
      "8 is not a prime number\n"
     ]
    }
   ],
   "source": [
    "# input should be always greater than 1.\n",
    "x= int(input())\n",
    "for i in range(2,x):\n",
    "    if x%i==0:\n",
    "        print(x,'is not a prime number')\n",
    "        break\n",
    "else:\n",
    "    print('yes,',x,'is a prime number')\n",
    "    "
   ]
  },
  {
   "cell_type": "markdown",
   "id": "8d4daab1",
   "metadata": {},
   "source": [
    "### Write a program to print all prime numbers between two given numbers."
   ]
  },
  {
   "cell_type": "code",
   "execution_count": 58,
   "id": "2ec97ddb",
   "metadata": {},
   "outputs": [
    {
     "name": "stdout",
     "output_type": "stream",
     "text": [
      "[23, 29]\n"
     ]
    }
   ],
   "source": [
    "x=20\n",
    "y=30\n",
    "z=[]\n",
    "for i in range(20,30):\n",
    "    for j in range(2,i):\n",
    "        if i%j==0:\n",
    "            break\n",
    "    else:\n",
    "        z.append(i)\n",
    "print(z)"
   ]
  },
  {
   "cell_type": "markdown",
   "id": "96df632b",
   "metadata": {},
   "source": [
    "### Write a program to print all prime factors of a given number."
   ]
  },
  {
   "cell_type": "code",
   "execution_count": 7,
   "id": "c918dab1",
   "metadata": {},
   "outputs": [
    {
     "name": "stdout",
     "output_type": "stream",
     "text": [
      "5 "
     ]
    }
   ],
   "source": [
    "def primefac(n):\n",
    "    count = 0\n",
    "    for i in range(2,n+1):\n",
    "        \n",
    "        if n % i==0:\n",
    "            count +=1\n",
    "        if count ==2:\n",
    "            return False\n",
    "    return True\n",
    "# print(primefac(19))\n",
    "\n",
    "def printallPrimefac(x):\n",
    "    for i in range(2,x+1):\n",
    "        if primefac(i):\n",
    "            if x % i==0:\n",
    "                print(i,end=' ')\n",
    "printallPrimefac(25)"
   ]
  },
  {
   "cell_type": "code",
   "execution_count": 3,
   "id": "53615dc7",
   "metadata": {},
   "outputs": [
    {
     "name": "stdout",
     "output_type": "stream",
     "text": [
      "2\n",
      "2\n"
     ]
    }
   ],
   "source": [
    "x = 36\n",
    "i=2\n",
    "while x%i==0:\n",
    "    print(i)\n",
    "    x=x/i\n",
    "i=+1"
   ]
  },
  {
   "cell_type": "markdown",
   "id": "26198b91",
   "metadata": {},
   "source": [
    "### Write a program to print first N terms of Fibonacci series "
   ]
  },
  {
   "cell_type": "code",
   "execution_count": 78,
   "id": "a16233a9",
   "metadata": {},
   "outputs": [
    {
     "name": "stdout",
     "output_type": "stream",
     "text": [
      "0 1 1 2 3 5 8 13 21 34 "
     ]
    }
   ],
   "source": [
    "x,y = 0,1\n",
    "\n",
    "for i in range(10):\n",
    "    print(x,end =' ')\n",
    "    res = x+y\n",
    "    x=y\n",
    "    y=res"
   ]
  },
  {
   "cell_type": "markdown",
   "id": "7db1fe2c",
   "metadata": {},
   "source": [
    "### Write a program to check co-prime number"
   ]
  },
  {
   "cell_type": "code",
   "execution_count": 84,
   "id": "90e8b39e",
   "metadata": {},
   "outputs": [
    {
     "name": "stdout",
     "output_type": "stream",
     "text": [
      "3\n",
      "5\n",
      "15\n"
     ]
    }
   ],
   "source": [
    "x,y = 15,30\n",
    "\n",
    "for i in range(2,y):\n",
    "    if x%i==0 and y%i==0:\n",
    "        print(i)"
   ]
  },
  {
   "cell_type": "code",
   "execution_count": 9,
   "id": "f49b82d4",
   "metadata": {},
   "outputs": [
    {
     "name": "stdout",
     "output_type": "stream",
     "text": [
      "[('John', 'Jenny'), ('Charles', 'Christy'), ('Mike', 'Monica')]\n"
     ]
    }
   ],
   "source": [
    "a = (\"John\", \"Charles\", \"Mike\")\n",
    "b = (\"Jenny\", \"Christy\", \"Monica\")\n",
    "\n",
    "x = zip(a, b)\n",
    "print(list(x))"
   ]
  },
  {
   "cell_type": "markdown",
   "id": "4b155c73",
   "metadata": {},
   "source": [
    "### Write a function to calculate factorial of a number."
   ]
  },
  {
   "cell_type": "code",
   "execution_count": 12,
   "id": "4e9853ba",
   "metadata": {},
   "outputs": [
    {
     "data": {
      "text/plain": [
       "120"
      ]
     },
     "execution_count": 12,
     "metadata": {},
     "output_type": "execute_result"
    }
   ],
   "source": [
    "def fact(n):\n",
    "    if n==0 :\n",
    "        return 1\n",
    "    elif n<0:\n",
    "        print('not possible')\n",
    "    else:\n",
    "        return n * fact(n-1)\n",
    "n=5\n",
    "fact(n)"
   ]
  },
  {
   "cell_type": "markdown",
   "id": "80d05daa",
   "metadata": {},
   "source": [
    "### Write a function to calculate area of a circle."
   ]
  },
  {
   "cell_type": "code",
   "execution_count": 13,
   "id": "5df3b016",
   "metadata": {},
   "outputs": [
    {
     "data": {
      "text/plain": [
       "153.86"
      ]
     },
     "execution_count": 13,
     "metadata": {},
     "output_type": "execute_result"
    }
   ],
   "source": [
    "def circle(r):\n",
    "    return π* r**2\n",
    "π = 3.14\n",
    "r = 7\n",
    "circle(r)"
   ]
  },
  {
   "cell_type": "markdown",
   "id": "e7587fc0",
   "metadata": {},
   "source": [
    "### Write a program to print System Date"
   ]
  },
  {
   "cell_type": "code",
   "execution_count": 16,
   "id": "0d80d869",
   "metadata": {},
   "outputs": [
    {
     "name": "stdout",
     "output_type": "stream",
     "text": [
      "29\n"
     ]
    }
   ],
   "source": [
    "s = \"This, is, a, python ,language\"\n",
    "# s = s.split(',')\n",
    "print(len(s))"
   ]
  },
  {
   "cell_type": "code",
   "execution_count": 25,
   "id": "98d67934",
   "metadata": {},
   "outputs": [
    {
     "name": "stdout",
     "output_type": "stream",
     "text": [
      "['This', ' is', ' a', ' python ', 'language']\n",
      "['This', ' is', ' a', ' python ', 'language']\n",
      "['This', ' is', ' a', ' python ', 'language']\n",
      " python \n",
      "['This', ' is', ' a', ' python ', 'language']\n"
     ]
    }
   ],
   "source": [
    "x=\"This, is, a, python ,language\"\n",
    "x = x.split(',')\n",
    "for i in x:\n",
    "    if i==' python ':\n",
    "        print(i)\n",
    "    else:\n",
    "        print(x)"
   ]
  },
  {
   "cell_type": "code",
   "execution_count": null,
   "id": "91b980ac",
   "metadata": {},
   "outputs": [],
   "source": []
  }
 ],
 "metadata": {
  "kernelspec": {
   "display_name": "Python 3",
   "language": "python",
   "name": "python3"
  },
  "language_info": {
   "codemirror_mode": {
    "name": "ipython",
    "version": 3
   },
   "file_extension": ".py",
   "mimetype": "text/x-python",
   "name": "python",
   "nbconvert_exporter": "python",
   "pygments_lexer": "ipython3",
   "version": "3.8.8"
  },
  "toc": {
   "base_numbering": "1",
   "nav_menu": {},
   "number_sections": true,
   "sideBar": true,
   "skip_h1_title": false,
   "title_cell": "Table of Contents",
   "title_sidebar": "Contents",
   "toc_cell": false,
   "toc_position": {},
   "toc_section_display": true,
   "toc_window_display": true
  }
 },
 "nbformat": 4,
 "nbformat_minor": 5
}
